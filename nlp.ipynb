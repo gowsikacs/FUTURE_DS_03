{
 "cells": [
  {
   "cell_type": "markdown",
   "id": "0594acc2-6c37-4080-ada0-0da42e1b8e54",
   "metadata": {},
   "source": [
    "# Import libraries"
   ]
  },
  {
   "cell_type": "code",
   "execution_count": 1,
   "id": "6359cf5d-2800-4877-92fd-765f7ad536fa",
   "metadata": {},
   "outputs": [],
   "source": [
    "import numpy as np\n",
    "import pandas as pd\n",
    "import matplotlib.pyplot as plt\n",
    "import seaborn as sns"
   ]
  },
  {
   "cell_type": "code",
   "execution_count": 3,
   "id": "97b9f9c8-c056-4e60-8501-89c38e64eb8e",
   "metadata": {},
   "outputs": [
    {
     "name": "stdout",
     "output_type": "stream",
     "text": [
      "   SN  Total Feedback Given  Total Configured  \\\n",
      "0   1                     1                12   \n",
      "1   2                     1                12   \n",
      "2   3                     1                12   \n",
      "3   4                     1                12   \n",
      "4   5                     1                12   \n",
      "\n",
      "                                           Questions  Weightage 1  \\\n",
      "0  How much of the syllabus was covered in the cl...            0   \n",
      "1  How well did the teachers prepare for the clas...            0   \n",
      "2    How well were the teachers able to communicate?            0   \n",
      "3  The teachers approach to teaching can best be...            0   \n",
      "4  Fairness of the internal evaluation process by...            0   \n",
      "\n",
      "   Weightage 2  Weightage 3  Weightage 4  Weightage 5 Average/ Percentage  \\\n",
      "0            0            1            0            0        3.00 / 60.00   \n",
      "1            0            0            0            1       5.00 / 100.00   \n",
      "2            0            0            0            1       5.00 / 100.00   \n",
      "3            0            1            0            0        3.00 / 60.00   \n",
      "4            0            0            1            0        4.00 / 80.00   \n",
      "\n",
      "               Course Name            Basic Course  \n",
      "0  FY B.VOC FOOD TECHNOLOGY  B.VOC FOOD TECHNOLOGY  \n",
      "1  FY B.VOC FOOD TECHNOLOGY  B.VOC FOOD TECHNOLOGY  \n",
      "2  FY B.VOC FOOD TECHNOLOGY  B.VOC FOOD TECHNOLOGY  \n",
      "3  FY B.VOC FOOD TECHNOLOGY  B.VOC FOOD TECHNOLOGY  \n",
      "4  FY B.VOC FOOD TECHNOLOGY  B.VOC FOOD TECHNOLOGY  \n"
     ]
    }
   ],
   "source": [
    "import pandas as pd\n",
    "\n",
    "df = pd.read_csv(\"Student_Satisfaction_Survey.csv\", encoding=\"latin1\")\n",
    "print(df.head())\n"
   ]
  },
  {
   "cell_type": "code",
   "execution_count": 4,
   "id": "8f72a109-e655-4a7c-a84c-81a0426e02ae",
   "metadata": {},
   "outputs": [
    {
     "data": {
      "text/html": [
       "<div>\n",
       "<style scoped>\n",
       "    .dataframe tbody tr th:only-of-type {\n",
       "        vertical-align: middle;\n",
       "    }\n",
       "\n",
       "    .dataframe tbody tr th {\n",
       "        vertical-align: top;\n",
       "    }\n",
       "\n",
       "    .dataframe thead th {\n",
       "        text-align: right;\n",
       "    }\n",
       "</style>\n",
       "<table border=\"1\" class=\"dataframe\">\n",
       "  <thead>\n",
       "    <tr style=\"text-align: right;\">\n",
       "      <th></th>\n",
       "      <th>SN</th>\n",
       "      <th>Total Feedback Given</th>\n",
       "      <th>Total Configured</th>\n",
       "      <th>Questions</th>\n",
       "      <th>Weightage 1</th>\n",
       "      <th>Weightage 2</th>\n",
       "      <th>Weightage 3</th>\n",
       "      <th>Weightage 4</th>\n",
       "      <th>Weightage 5</th>\n",
       "      <th>Average/ Percentage</th>\n",
       "      <th>Course Name</th>\n",
       "      <th>Basic Course</th>\n",
       "    </tr>\n",
       "  </thead>\n",
       "  <tbody>\n",
       "    <tr>\n",
       "      <th>0</th>\n",
       "      <td>1</td>\n",
       "      <td>1</td>\n",
       "      <td>12</td>\n",
       "      <td>How much of the syllabus was covered in the cl...</td>\n",
       "      <td>0</td>\n",
       "      <td>0</td>\n",
       "      <td>1</td>\n",
       "      <td>0</td>\n",
       "      <td>0</td>\n",
       "      <td>3.00 / 60.00</td>\n",
       "      <td>FY B.VOC FOOD TECHNOLOGY</td>\n",
       "      <td>B.VOC FOOD TECHNOLOGY</td>\n",
       "    </tr>\n",
       "    <tr>\n",
       "      <th>1</th>\n",
       "      <td>2</td>\n",
       "      <td>1</td>\n",
       "      <td>12</td>\n",
       "      <td>How well did the teachers prepare for the clas...</td>\n",
       "      <td>0</td>\n",
       "      <td>0</td>\n",
       "      <td>0</td>\n",
       "      <td>0</td>\n",
       "      <td>1</td>\n",
       "      <td>5.00 / 100.00</td>\n",
       "      <td>FY B.VOC FOOD TECHNOLOGY</td>\n",
       "      <td>B.VOC FOOD TECHNOLOGY</td>\n",
       "    </tr>\n",
       "    <tr>\n",
       "      <th>2</th>\n",
       "      <td>3</td>\n",
       "      <td>1</td>\n",
       "      <td>12</td>\n",
       "      <td>How well were the teachers able to communicate?</td>\n",
       "      <td>0</td>\n",
       "      <td>0</td>\n",
       "      <td>0</td>\n",
       "      <td>0</td>\n",
       "      <td>1</td>\n",
       "      <td>5.00 / 100.00</td>\n",
       "      <td>FY B.VOC FOOD TECHNOLOGY</td>\n",
       "      <td>B.VOC FOOD TECHNOLOGY</td>\n",
       "    </tr>\n",
       "    <tr>\n",
       "      <th>3</th>\n",
       "      <td>4</td>\n",
       "      <td>1</td>\n",
       "      <td>12</td>\n",
       "      <td>The teachers approach to teaching can best be...</td>\n",
       "      <td>0</td>\n",
       "      <td>0</td>\n",
       "      <td>1</td>\n",
       "      <td>0</td>\n",
       "      <td>0</td>\n",
       "      <td>3.00 / 60.00</td>\n",
       "      <td>FY B.VOC FOOD TECHNOLOGY</td>\n",
       "      <td>B.VOC FOOD TECHNOLOGY</td>\n",
       "    </tr>\n",
       "    <tr>\n",
       "      <th>4</th>\n",
       "      <td>5</td>\n",
       "      <td>1</td>\n",
       "      <td>12</td>\n",
       "      <td>Fairness of the internal evaluation process by...</td>\n",
       "      <td>0</td>\n",
       "      <td>0</td>\n",
       "      <td>0</td>\n",
       "      <td>1</td>\n",
       "      <td>0</td>\n",
       "      <td>4.00 / 80.00</td>\n",
       "      <td>FY B.VOC FOOD TECHNOLOGY</td>\n",
       "      <td>B.VOC FOOD TECHNOLOGY</td>\n",
       "    </tr>\n",
       "  </tbody>\n",
       "</table>\n",
       "</div>"
      ],
      "text/plain": [
       "   SN  Total Feedback Given  Total Configured  \\\n",
       "0   1                     1                12   \n",
       "1   2                     1                12   \n",
       "2   3                     1                12   \n",
       "3   4                     1                12   \n",
       "4   5                     1                12   \n",
       "\n",
       "                                           Questions  Weightage 1  \\\n",
       "0  How much of the syllabus was covered in the cl...            0   \n",
       "1  How well did the teachers prepare for the clas...            0   \n",
       "2    How well were the teachers able to communicate?            0   \n",
       "3  The teachers approach to teaching can best be...            0   \n",
       "4  Fairness of the internal evaluation process by...            0   \n",
       "\n",
       "   Weightage 2  Weightage 3  Weightage 4  Weightage 5 Average/ Percentage  \\\n",
       "0            0            1            0            0        3.00 / 60.00   \n",
       "1            0            0            0            1       5.00 / 100.00   \n",
       "2            0            0            0            1       5.00 / 100.00   \n",
       "3            0            1            0            0        3.00 / 60.00   \n",
       "4            0            0            1            0        4.00 / 80.00   \n",
       "\n",
       "               Course Name            Basic Course  \n",
       "0  FY B.VOC FOOD TECHNOLOGY  B.VOC FOOD TECHNOLOGY  \n",
       "1  FY B.VOC FOOD TECHNOLOGY  B.VOC FOOD TECHNOLOGY  \n",
       "2  FY B.VOC FOOD TECHNOLOGY  B.VOC FOOD TECHNOLOGY  \n",
       "3  FY B.VOC FOOD TECHNOLOGY  B.VOC FOOD TECHNOLOGY  \n",
       "4  FY B.VOC FOOD TECHNOLOGY  B.VOC FOOD TECHNOLOGY  "
      ]
     },
     "execution_count": 4,
     "metadata": {},
     "output_type": "execute_result"
    }
   ],
   "source": [
    "df.head()"
   ]
  },
  {
   "cell_type": "code",
   "execution_count": 9,
   "id": "f182ff71-4bab-4d71-9ae9-832355cf0d67",
   "metadata": {},
   "outputs": [
    {
     "data": {
      "text/plain": [
       "Index(['SN', 'Total Feedback Given', 'Total Configured', 'Questions',\n",
       "       'Weightage 1', 'Weightage 2', 'Weightage 3', 'Weightage 4',\n",
       "       'Weightage 5', 'Average/ Percentage', 'Course Name ', 'Basic Course'],\n",
       "      dtype='object')"
      ]
     },
     "execution_count": 9,
     "metadata": {},
     "output_type": "execute_result"
    }
   ],
   "source": [
    "df.columns"
   ]
  },
  {
   "cell_type": "markdown",
   "id": "821da056-f584-4580-b3e7-2d50b08cb4ca",
   "metadata": {},
   "source": [
    "# Handling Missing values"
   ]
  },
  {
   "cell_type": "code",
   "execution_count": 5,
   "id": "edc3fa27-36d2-4226-bdd7-1ea270ae2c6a",
   "metadata": {},
   "outputs": [
    {
     "data": {
      "text/plain": [
       "SN                      0\n",
       "Total Feedback Given    0\n",
       "Total Configured        0\n",
       "Questions               0\n",
       "Weightage 1             0\n",
       "Weightage 2             0\n",
       "Weightage 3             0\n",
       "Weightage 4             0\n",
       "Weightage 5             0\n",
       "Average/ Percentage     0\n",
       "Course Name             0\n",
       "Basic Course            0\n",
       "dtype: int64"
      ]
     },
     "execution_count": 5,
     "metadata": {},
     "output_type": "execute_result"
    }
   ],
   "source": [
    "df.isnull().sum()"
   ]
  },
  {
   "cell_type": "markdown",
   "id": "3b79da7e-de85-4e39-bc03-462c6a2da2d6",
   "metadata": {},
   "source": [
    "# Statistics"
   ]
  },
  {
   "cell_type": "code",
   "execution_count": 15,
   "id": "8cdcfcc5-f7e4-4f7e-b230-c2c4dda12685",
   "metadata": {},
   "outputs": [
    {
     "data": {
      "text/plain": [
       "<bound method NDFrame.describe of      SN  Total Feedback Given  Total Configured  \\\n",
       "0     1                     1                12   \n",
       "1     2                     1                12   \n",
       "2     3                     1                12   \n",
       "3     4                     1                12   \n",
       "4     5                     1                12   \n",
       "..   ..                   ...               ...   \n",
       "575  16                     9               170   \n",
       "576  17                     9               170   \n",
       "577  18                     9               170   \n",
       "578  19                     9               170   \n",
       "579  20                     9               170   \n",
       "\n",
       "                                             Questions  Weightage 1  \\\n",
       "0    How much of the syllabus was covered in the cl...            0   \n",
       "1    How well did the teachers prepare for the clas...            0   \n",
       "2      How well were the teachers able to communicate?            0   \n",
       "3    The teachers approach to teaching can best be...            0   \n",
       "4    Fairness of the internal evaluation process by...            0   \n",
       "..                                                 ...          ...   \n",
       "575  The institute/ teachers use student-centric me...            1   \n",
       "576  Teachers encourage you to participate in extra...            0   \n",
       "577  Efforts are made by the institute/ teachers to...            0   \n",
       "578  What percentage of teachers use ICT tools such...            0   \n",
       "579  The overall quality of the teaching-learning p...            0   \n",
       "\n",
       "     Weightage 2  Weightage 3  Weightage 4  Weightage 5 Average/ Percentage  \\\n",
       "0              0            1            0            0        3.00 / 60.00   \n",
       "1              0            0            0            1       5.00 / 100.00   \n",
       "2              0            0            0            1       5.00 / 100.00   \n",
       "3              0            1            0            0        3.00 / 60.00   \n",
       "4              0            0            1            0        4.00 / 80.00   \n",
       "..           ...          ...          ...          ...                 ...   \n",
       "575            0            0            2            6        4.33 / 86.67   \n",
       "576            0            0            3            6        4.67 / 93.33   \n",
       "577            0            1            2            6        4.56 / 91.11   \n",
       "578            0            1            3            5        4.44 / 88.89   \n",
       "579            0            1            2            6        4.56 / 91.11   \n",
       "\n",
       "                 Course Name            Basic Course  \n",
       "0    FY B.VOC FOOD TECHNOLOGY  B.VOC FOOD TECHNOLOGY  \n",
       "1    FY B.VOC FOOD TECHNOLOGY  B.VOC FOOD TECHNOLOGY  \n",
       "2    FY B.VOC FOOD TECHNOLOGY  B.VOC FOOD TECHNOLOGY  \n",
       "3    FY B.VOC FOOD TECHNOLOGY  B.VOC FOOD TECHNOLOGY  \n",
       "4    FY B.VOC FOOD TECHNOLOGY  B.VOC FOOD TECHNOLOGY  \n",
       "..                        ...                    ...  \n",
       "575                    TYBSC     BACHELOR OF SCIENCE  \n",
       "576                    TYBSC     BACHELOR OF SCIENCE  \n",
       "577                    TYBSC     BACHELOR OF SCIENCE  \n",
       "578                    TYBSC     BACHELOR OF SCIENCE  \n",
       "579                    TYBSC     BACHELOR OF SCIENCE  \n",
       "\n",
       "[580 rows x 12 columns]>"
      ]
     },
     "execution_count": 15,
     "metadata": {},
     "output_type": "execute_result"
    }
   ],
   "source": [
    "df.describe"
   ]
  },
  {
   "cell_type": "markdown",
   "id": "db459182-2644-4006-8991-bc6d2a1afd1c",
   "metadata": {},
   "source": [
    "# Sentiment Analysis"
   ]
  },
  {
   "cell_type": "code",
   "execution_count": 17,
   "id": "3c5e2286-3ed8-4746-bcba-d40133d9a531",
   "metadata": {},
   "outputs": [
    {
     "name": "stdout",
     "output_type": "stream",
     "text": [
      "sentiment\n",
      "Positive    348\n",
      "Neutral     232\n",
      "Name: count, dtype: int64\n"
     ]
    }
   ],
   "source": [
    "from vaderSentiment.vaderSentiment import SentimentIntensityAnalyzer\n",
    "\n",
    "analyzer = SentimentIntensityAnalyzer()\n",
    "\n",
    "df[\"sentiment_score\"] = df[\"Questions\"].astype(str).apply(lambda x: analyzer.polarity_scores(x)[\"compound\"])\n",
    "df[\"sentiment\"] = df[\"sentiment_score\"].apply(lambda x: \"Positive\" if x>0.05 else (\"Negative\" if x<-0.05 else \"Neutral\"))\n",
    "\n",
    "print(df[\"sentiment\"].value_counts())\n"
   ]
  },
  {
   "cell_type": "markdown",
   "id": "68faff79-6fca-4627-9a28-e0dde0e4c23b",
   "metadata": {
    "jupyter": {
     "source_hidden": true
    }
   },
   "source": [
    "# Data Visualization"
   ]
  },
  {
   "cell_type": "code",
   "execution_count": 18,
   "id": "89a0d05d-6578-42f5-9c99-96544f13ca83",
   "metadata": {},
   "outputs": [
    {
     "data": {
      "image/png": "[encoded data removed]",
      "text/plain": [
       "<Figure size 640x480 with 1 Axes>"
      ]
     },
     "metadata": {},
     "output_type": "display_data"
    }
   ],
   "source": [
    "# Pie chart\n",
    "df[\"sentiment\"].value_counts().plot.pie(autopct=\"%1.1f%%\")\n",
    "plt.title(\"Sentiment Distribution\")\n",
    "plt.show()"
   ]
  },
  {
   "cell_type": "markdown",
   "id": "74d2a30e-bec3-4979-b5bf-2dd313bd2afc",
   "metadata": {},
   "source": [
    "# Features engineering"
   ]
  },
  {
   "cell_type": "code",
   "execution_count": 31,
   "id": "81a44343-9f1d-4759-9952-4b7c2507f206",
   "metadata": {},
   "outputs": [],
   "source": [
    "from sklearn.feature_extraction.text import TfidfVectorizer\n",
    "\n",
    "vectorizer = TfidfVectorizer(stop_words=\"english\")\n",
    "X = vectorizer.fit_transform(df[\"Questions\"])\n",
    "y = df[\"sentiment\"]\n"
   ]
  },
  {
   "cell_type": "markdown",
   "id": "53ac7336-fbde-4409-943b-f0c07e1ccf3b",
   "metadata": {},
   "source": [
    "# Build the Model"
   ]
  },
  {
   "cell_type": "code",
   "execution_count": 32,
   "id": "8736c4b8-bfdd-48f5-82f5-8b6a80f4d0ee",
   "metadata": {},
   "outputs": [
    {
     "name": "stdout",
     "output_type": "stream",
     "text": [
      "              precision    recall  f1-score   support\n",
      "\n",
      "     Neutral       1.00      1.00      1.00        49\n",
      "    Positive       1.00      1.00      1.00        67\n",
      "\n",
      "    accuracy                           1.00       116\n",
      "   macro avg       1.00      1.00      1.00       116\n",
      "weighted avg       1.00      1.00      1.00       116\n",
      "\n"
     ]
    }
   ],
   "source": [
    "from sklearn.model_selection import train_test_split\n",
    "from sklearn.linear_model import LogisticRegression\n",
    "from sklearn.metrics import classification_report\n",
    "\n",
    "# Train/test split\n",
    "X_train, X_test, y_train, y_test = train_test_split(X, y, test_size=0.2, random_state=42)\n",
    "\n",
    "# Model\n",
    "model = LogisticRegression()\n",
    "model.fit(X_train, y_train)\n",
    "\n",
    "# Predictions\n",
    "y_pred = model.predict(X_test)\n",
    "\n",
    "print(classification_report(y_test, y_pred))\n"
   ]
  },
  {
   "cell_type": "code",
   "execution_count": 41,
   "id": "d01c17bb-49bc-421c-b8d3-1d5ca836a40c",
   "metadata": {},
   "outputs": [
    {
     "name": "stdout",
     "output_type": "stream",
     "text": [
      "Intercept values(b): [0.4473967]\n"
     ]
    }
   ],
   "source": [
    "print(\"Intercept values(b):\", model.intercept_)"
   ]
  },
  {
   "cell_type": "code",
   "execution_count": 48,
   "id": "4e36e2f1-4fa8-4d3e-94c2-daa135da52f8",
   "metadata": {},
   "outputs": [
    {
     "name": "stdout",
     "output_type": "stream",
     "text": [
      "Slope values(m): [[ 1.76113015  0.61744768  0.9412175  -1.23850553  0.8264351  -1.04801667\n",
      "  -1.51811214  0.8264351  -0.76778815  0.67028333 -1.50045709  1.07639621\n",
      "   0.64301723  1.37270705 -0.84650446 -1.23850553  0.52622492 -0.84650446\n",
      "  -1.50045709  0.8264351   1.07639621 -1.51811214 -1.04801667  0.52622492\n",
      "   0.455177    0.64301723  0.455177    1.3365146   0.52622492 -0.76778815\n",
      "  -1.52259902 -1.23850553  0.61744768 -0.84650446 -0.76778815 -0.76778815\n",
      "   0.9412175   0.64301723 -1.52259902  0.61744768 -1.04801667  0.94038605\n",
      "   0.71201064  0.64301723  0.75077345 -0.98262044  1.17856789 -1.23850553\n",
      "   0.52622492  0.455177   -0.84650446  0.81764698  1.37047619 -1.52259902\n",
      "   0.61744768 -0.98262044  0.71201064 -0.60956759  0.67028333  0.455177\n",
      "   0.455177    0.52622492 -1.04801667  0.64301723 -0.76778815 -0.76778815\n",
      "   0.52622492 -0.98262044  0.71201064 -1.04801667  1.10259979 -1.69300892\n",
      "   0.94038605  0.75077345  0.9412175  -0.76778815 -0.98262044 -1.51811214\n",
      "   1.07639621 -0.76778815  0.38545931 -0.84650446 -0.98262044  0.61744768\n",
      "   0.67028333  0.67028333  0.71201064  1.21634873  0.455177    0.52622492\n",
      "   1.365531    0.64301723  0.455177   -0.76778815  0.67028333 -0.1246864\n",
      "   0.94851651 -1.50045709  0.61744768 -1.04801667  0.8264351  -0.03683926\n",
      "   1.17355023 -0.98262044 -1.45171918  0.61744768  0.75077345  0.455177\n",
      "   0.455177  ]]\n"
     ]
    }
   ],
   "source": [
    "print(\"Slope values(m):\", model.coef_)"
   ]
  },
  {
   "cell_type": "code",
   "execution_count": 39,
   "id": "b80cfe56-3331-44c8-a9f2-f95d0ce82570",
   "metadata": {},
   "outputs": [
    {
     "data": {
      "image/png": "[encoded data removed]",
      "text/plain": [
       "<Figure size 640x480 with 2 Axes>"
      ]
     },
     "metadata": {},
     "output_type": "display_data"
    }
   ],
   "source": [
    "from sklearn.metrics import confusion_matrix\n",
    "sns.heatmap(confusion_matrix(y_test, y_pred), annot=True, fmt=\"d\")\n",
    "plt.show()\n"
   ]
  },
  {
   "cell_type": "code",
   "execution_count": null,
   "id": "2148c73e-93d7-46ff-9d55-d8d5f345b487",
   "metadata": {},
   "outputs": [],
   "source": []
  }
 ],
 "metadata": {
  "kernelspec": {
   "display_name": "Python 3 (ipykernel)",
   "language": "python",
   "name": "python3"
  },
  "language_info": {
   "codemirror_mode": {
    "name": "ipython",
    "version": 3
   },
   "file_extension": ".py",
   "mimetype": "text/x-python",
   "name": "python",
   "nbconvert_exporter": "python",
   "pygments_lexer": "ipython3",
   "version": "3.12.7"
  }
 },
 "nbformat": 4,
 "nbformat_minor": 5
}
